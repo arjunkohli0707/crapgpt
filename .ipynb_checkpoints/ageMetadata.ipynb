{
 "cells": [
  {
   "cell_type": "code",
   "execution_count": 2,
   "metadata": {},
   "outputs": [
    {
     "ename": "KeyError",
     "evalue": "'age_years'",
     "output_type": "error",
     "traceback": [
      "\u001b[0;31m---------------------------------------------------------------------------\u001b[0m",
      "\u001b[0;31mKeyError\u001b[0m                                  Traceback (most recent call last)",
      "File \u001b[0;32m~/miniconda3/envs/crapgpt/lib/python3.9/site-packages/pandas/core/indexes/base.py:3802\u001b[0m, in \u001b[0;36mIndex.get_loc\u001b[0;34m(self, key)\u001b[0m\n\u001b[1;32m   3801\u001b[0m \u001b[38;5;28;01mtry\u001b[39;00m:\n\u001b[0;32m-> 3802\u001b[0m     \u001b[38;5;28;01mreturn\u001b[39;00m \u001b[38;5;28;43mself\u001b[39;49m\u001b[38;5;241;43m.\u001b[39;49m\u001b[43m_engine\u001b[49m\u001b[38;5;241;43m.\u001b[39;49m\u001b[43mget_loc\u001b[49m\u001b[43m(\u001b[49m\u001b[43mcasted_key\u001b[49m\u001b[43m)\u001b[49m\n\u001b[1;32m   3803\u001b[0m \u001b[38;5;28;01mexcept\u001b[39;00m \u001b[38;5;167;01mKeyError\u001b[39;00m \u001b[38;5;28;01mas\u001b[39;00m err:\n",
      "File \u001b[0;32mindex.pyx:153\u001b[0m, in \u001b[0;36mpandas._libs.index.IndexEngine.get_loc\u001b[0;34m()\u001b[0m\n",
      "File \u001b[0;32mindex.pyx:182\u001b[0m, in \u001b[0;36mpandas._libs.index.IndexEngine.get_loc\u001b[0;34m()\u001b[0m\n",
      "File \u001b[0;32mpandas/_libs/hashtable_class_helper.pxi:7081\u001b[0m, in \u001b[0;36mpandas._libs.hashtable.PyObjectHashTable.get_item\u001b[0;34m()\u001b[0m\n",
      "File \u001b[0;32mpandas/_libs/hashtable_class_helper.pxi:7089\u001b[0m, in \u001b[0;36mpandas._libs.hashtable.PyObjectHashTable.get_item\u001b[0;34m()\u001b[0m\n",
      "\u001b[0;31mKeyError\u001b[0m: 'age_years'",
      "\nThe above exception was the direct cause of the following exception:\n",
      "\u001b[0;31mKeyError\u001b[0m                                  Traceback (most recent call last)",
      "Cell \u001b[0;32mIn[2], line 39\u001b[0m\n\u001b[1;32m     34\u001b[0m     \u001b[38;5;28;01mpass\u001b[39;00m\n\u001b[1;32m     37\u001b[0m metadata \u001b[38;5;241m=\u001b[39m pd\u001b[38;5;241m.\u001b[39mread_csv(\u001b[38;5;124m'\u001b[39m\u001b[38;5;124magp-metadata.txt\u001b[39m\u001b[38;5;124m'\u001b[39m, sep\u001b[38;5;241m=\u001b[39m\u001b[38;5;124m'\u001b[39m\u001b[38;5;130;01m\\t\u001b[39;00m\u001b[38;5;124m'\u001b[39m, dtype\u001b[38;5;241m=\u001b[39m\u001b[38;5;28mstr\u001b[39m)\n\u001b[0;32m---> 39\u001b[0m \u001b[38;5;28mprint\u001b[39m(pd\u001b[38;5;241m.\u001b[39mto_numeric(\u001b[43mmetadata\u001b[49m\u001b[43m[\u001b[49m\u001b[38;5;124;43m'\u001b[39;49m\u001b[38;5;124;43mage_years\u001b[39;49m\u001b[38;5;124;43m'\u001b[39;49m\u001b[43m]\u001b[49m, errors\u001b[38;5;241m=\u001b[39m\u001b[38;5;124m'\u001b[39m\u001b[38;5;124mcoerce\u001b[39m\u001b[38;5;124m'\u001b[39m)\u001b[38;5;241m.\u001b[39mdescribe())\n",
      "File \u001b[0;32m~/miniconda3/envs/crapgpt/lib/python3.9/site-packages/pandas/core/frame.py:4090\u001b[0m, in \u001b[0;36mDataFrame.__getitem__\u001b[0;34m(self, key)\u001b[0m\n\u001b[1;32m   4088\u001b[0m \u001b[38;5;28;01mif\u001b[39;00m \u001b[38;5;28mself\u001b[39m\u001b[38;5;241m.\u001b[39mcolumns\u001b[38;5;241m.\u001b[39mnlevels \u001b[38;5;241m>\u001b[39m \u001b[38;5;241m1\u001b[39m:\n\u001b[1;32m   4089\u001b[0m     \u001b[38;5;28;01mreturn\u001b[39;00m \u001b[38;5;28mself\u001b[39m\u001b[38;5;241m.\u001b[39m_getitem_multilevel(key)\n\u001b[0;32m-> 4090\u001b[0m indexer \u001b[38;5;241m=\u001b[39m \u001b[38;5;28;43mself\u001b[39;49m\u001b[38;5;241;43m.\u001b[39;49m\u001b[43mcolumns\u001b[49m\u001b[38;5;241;43m.\u001b[39;49m\u001b[43mget_loc\u001b[49m\u001b[43m(\u001b[49m\u001b[43mkey\u001b[49m\u001b[43m)\u001b[49m\n\u001b[1;32m   4091\u001b[0m \u001b[38;5;28;01mif\u001b[39;00m is_integer(indexer):\n\u001b[1;32m   4092\u001b[0m     indexer \u001b[38;5;241m=\u001b[39m [indexer]\n",
      "File \u001b[0;32m~/miniconda3/envs/crapgpt/lib/python3.9/site-packages/pandas/core/indexes/base.py:3809\u001b[0m, in \u001b[0;36mIndex.get_loc\u001b[0;34m(self, key)\u001b[0m\n\u001b[1;32m   3804\u001b[0m     \u001b[38;5;28;01mif\u001b[39;00m \u001b[38;5;28misinstance\u001b[39m(casted_key, \u001b[38;5;28mslice\u001b[39m) \u001b[38;5;129;01mor\u001b[39;00m (\n\u001b[1;32m   3805\u001b[0m         \u001b[38;5;28misinstance\u001b[39m(casted_key, abc\u001b[38;5;241m.\u001b[39mIterable)\n\u001b[1;32m   3806\u001b[0m         \u001b[38;5;129;01mand\u001b[39;00m \u001b[38;5;28many\u001b[39m(\u001b[38;5;28misinstance\u001b[39m(x, \u001b[38;5;28mslice\u001b[39m) \u001b[38;5;28;01mfor\u001b[39;00m x \u001b[38;5;129;01min\u001b[39;00m casted_key)\n\u001b[1;32m   3807\u001b[0m     ):\n\u001b[1;32m   3808\u001b[0m         \u001b[38;5;28;01mraise\u001b[39;00m InvalidIndexError(key)\n\u001b[0;32m-> 3809\u001b[0m     \u001b[38;5;28;01mraise\u001b[39;00m \u001b[38;5;167;01mKeyError\u001b[39;00m(key) \u001b[38;5;28;01mfrom\u001b[39;00m \u001b[38;5;21;01merr\u001b[39;00m\n\u001b[1;32m   3810\u001b[0m \u001b[38;5;28;01mexcept\u001b[39;00m \u001b[38;5;167;01mTypeError\u001b[39;00m:\n\u001b[1;32m   3811\u001b[0m     \u001b[38;5;66;03m# If we have a listlike key, _check_indexing_error will raise\u001b[39;00m\n\u001b[1;32m   3812\u001b[0m     \u001b[38;5;66;03m#  InvalidIndexError. Otherwise we fall through and re-raise\u001b[39;00m\n\u001b[1;32m   3813\u001b[0m     \u001b[38;5;66;03m#  the TypeError.\u001b[39;00m\n\u001b[1;32m   3814\u001b[0m     \u001b[38;5;28mself\u001b[39m\u001b[38;5;241m.\u001b[39m_check_indexing_error(key)\n",
      "\u001b[0;31mKeyError\u001b[0m: 'age_years'"
     ]
    }
   ],
   "source": [
    "import click\n",
    "import crap_gpt._parameter_descriptions as desc\n",
    "import tensorflow as tf\n",
    "from crap_gpt.data_utils import (\n",
    "    get_sequencing_dataset,\n",
    "    combine_seq_diet_dataset,\n",
    "    batch_dataset\n",
    ")\n",
    "import pandas as pd\n",
    "import numpy as np\n",
    "\n",
    "# Allow using -h to show help information\n",
    "# https://click.palletsprojects.com/en/7.x/documentation/#help-parameter-customization\n",
    "CTXSETS = {\"help_option_names\": [\"-h\", \"--help\"]}\n",
    "\n",
    "@click.command()\n",
    "@click.option(\n",
    "    '--config-json',\n",
    "    required=True,\n",
    "    type=click.Path(exists=True),\n",
    "    help=desc.CONFIG_JSON\n",
    ")\n",
    "@click.option(\n",
    "    '-c', '--continue-training',\n",
    "    required=False, default=False, is_flag=True,\n",
    "    help=desc.CONTINUE_TRAINING\n",
    ")\n",
    "@click.option(\n",
    "    '--output-model-summary',\n",
    "    required=False, default=False, is_flag=True,\n",
    "    help=desc.OUTPUT_MODEL_SUMMARY\n",
    ")\n",
    "def fine_tuning(config_json, continue_training, output_model_summary):\n",
    "    pass\n",
    "\n",
    "\n",
    "metadata = pd.read_csv('agp-metadata.txt', sep='\\t', dtype=str)\n",
    "\n",
    "#print(pd.to_numeric(metadata['age_years'], errors='coerce').describe())"
   ]
  },
  {
   "cell_type": "code",
   "execution_count": 4,
   "metadata": {},
   "outputs": [
    {
     "name": "stdout",
     "output_type": "stream",
     "text": [
      "['#SampleID', 'acid_reflux', 'acne_medication', 'acne_medication_otc', 'add_adhd', 'age_cat', 'alcohol_consumption', 'alcohol_frequency', 'alcohol_types_beercider', 'alcohol_types_red_wine', 'alcohol_types_sour_beers', 'alcohol_types_spiritshard_alcohol', 'alcohol_types_unspecified', 'alcohol_types_white_wine', 'allergic_to_i_have_no_food_allergies_that_i_know_of', 'allergic_to_peanuts', 'allergic_to_shellfish', 'allergic_to_tree_nuts', 'allergic_to_unspecified', 'alzheimers', 'anonymized_name', 'antibiotic_history', 'appendix_removed', 'artificial_sweeteners', 'asd', 'autoimmune', 'birth_year', 'bowel_movement_frequency', 'bowel_movement_quality', 'breastmilk_formula_ensure', 'cancer', 'cancer_treatment', 'cardiovascular_disease', 'cat', 'cdiff', 'chickenpox', 'clinical_condition', 'consume_animal_products_abx', 'contraceptive', 'cosmetics_frequency', 'country_of_birth', 'country_residence', 'csection', 'deodorant_use', 'description', 'diabetes', 'diabetes_type', 'diet_type', 'dna_extracted', 'dog', 'dominant_hand', 'drinking_water_source', 'drinks_per_session', 'env_package', 'epilepsy_or_seizure_disorder', 'exercise_frequency', 'exercise_location', 'fed_as_infant', 'fermented_consumed_beer', 'fermented_consumed_chicha', 'fermented_consumed_cider', 'fermented_consumed_cottage_cheese', 'fermented_consumed_fermented_beansmisonatto', 'fermented_consumed_fermented_breadsourdoughinjera', 'fermented_consumed_fermented_fish', 'fermented_consumed_fermented_tofu', 'fermented_consumed_fish_sauce', 'fermented_consumed_kefir_milk', 'fermented_consumed_kefir_water', 'fermented_consumed_kimchi', 'fermented_consumed_kombucha', 'fermented_consumed_mead', 'fermented_consumed_pickled_vegetables', 'fermented_consumed_sauerkraut', 'fermented_consumed_sour_creamcreme_fraiche', 'fermented_consumed_tempeh', 'fermented_consumed_unspecified', 'fermented_consumed_wine', 'fermented_consumed_yogurtlassi', 'fermented_frequency', 'fermented_increased', 'fermented_plant_frequency', 'fermented_produce_commercial_beer', 'fermented_produce_commercial_chicha', 'fermented_produce_commercial_cider', 'fermented_produce_commercial_cottage_cheese', 'fermented_produce_commercial_fermented_beansmisonatto', 'fermented_produce_commercial_fermented_breadsourdoughinjera', 'fermented_produce_commercial_fermented_fish', 'fermented_produce_commercial_fermented_tofu', 'fermented_produce_commercial_fish_sauce', 'fermented_produce_commercial_kefir_milk', 'fermented_produce_commercial_kefir_water', 'fermented_produce_commercial_kimchi', 'fermented_produce_commercial_kombucha', 'fermented_produce_commercial_mead', 'fermented_produce_commercial_pickled_vegetables', 'fermented_produce_commercial_sauerkraut', 'fermented_produce_commercial_sour_creamcreme_fraiche', 'fermented_produce_commercial_tempeh', 'fermented_produce_commercial_unspecified', 'fermented_produce_commercial_wine', 'fermented_produce_commercial_yogurtlassi', 'fermented_produce_personal_beer', 'fermented_produce_personal_chicha', 'fermented_produce_personal_cider', 'fermented_produce_personal_cottage_cheese', 'fermented_produce_personal_fermented_beansmisonatto', 'fermented_produce_personal_fermented_breadsourdoughinjera', 'fermented_produce_personal_fermented_fish', 'fermented_produce_personal_fermented_tofu', 'fermented_produce_personal_fish_sauce', 'fermented_produce_personal_kefir_milk', 'fermented_produce_personal_kefir_water', 'fermented_produce_personal_kimchi', 'fermented_produce_personal_kombucha', 'fermented_produce_personal_mead', 'fermented_produce_personal_pickled_vegetables', 'fermented_produce_personal_sauerkraut', 'fermented_produce_personal_sour_creamcreme_fraiche', 'fermented_produce_personal_tempeh', 'fermented_produce_personal_unspecified', 'fermented_produce_personal_wine', 'fermented_produce_personal_yogurtlassi', 'flossing_frequency', 'flu_vaccine_date', 'frozen_dessert_frequency', 'fruit_frequency', 'fungal_overgrowth', 'gluten', 'high_fat_red_meat_frequency', 'homecooked_meals_frequency', 'host_age', 'host_body_habitat', 'host_body_product', 'host_body_site', 'host_common_name', 'host_height', 'host_height_units', 'host_subject_id', 'host_weight', 'host_weight_units', 'ibd', 'ibd_diagnosis_refined', 'ibs', 'kidney_disease', 'lactose', 'last_move', 'last_travel', 'latitude', 'level_of_education', 'liver_disease', 'livingwith', 'longitude', 'lung_disease', 'meat_eggs_frequency', 'mental_illness', 'mental_illness_type_anorexia_nervosa', 'mental_illness_type_bipolar_disorder', 'mental_illness_type_bulimia_nervosa', 'mental_illness_type_depression', 'mental_illness_type_schizophrenia', 'mental_illness_type_substance_abuse', 'mental_illness_type_unspecified', 'migraine', 'milk_cheese_frequency', 'milk_substitute_frequency', 'multivitamin', 'nail_biter', 'non_food_allergies_beestings', 'non_food_allergies_drug_eg_penicillin', 'non_food_allergies_pet_dander', 'non_food_allergies_poison_ivyoak', 'non_food_allergies_sun', 'non_food_allergies_unspecified', 'olive_oil', 'one_liter_of_water_a_day_frequency', 'other_supplement_frequency', 'pets_other', 'physical_specimen_location', 'physical_specimen_remaining', 'pku', 'pool_frequency', 'poultry_frequency', 'pregnant', 'prepared_meals_frequency', 'probiotic_frequency', 'public', 'qiita_study_id', 'race', 'ready_to_eat_meals_frequency', 'red_meat_frequency', 'roommates_in_study', 'salted_snacks_frequency', 'sample_type', 'seafood_frequency', 'seasonal_allergies', 'sex', 'sibo', 'skin_condition', 'sleep_duration', 'smoking_frequency', 'softener', 'specialized_diet_exclude_dairy', 'specialized_diet_exclude_nightshades', 'specialized_diet_exclude_refined_sugars', 'specialized_diet_fodmap', 'specialized_diet_halaal', 'specialized_diet_i_do_not_eat_a_specialized_diet', 'specialized_diet_kosher', 'specialized_diet_modified_paleo_diet', 'specialized_diet_other_restrictions_not_described_here', 'specialized_diet_raw_food_diet', 'specialized_diet_unspecified', 'sugar_sweetened_drink_frequency', 'sugary_sweets_frequency', 'teethbrushing_frequency', 'thyroid', 'title', 'tonsils_removed', 'types_of_plants', 'vegetable_frequency', 'vitamin_b_supplement_frequency', 'vitamin_d_supplement_frequency', 'vivid_dreams', 'weight_change', 'whole_eggs', 'whole_grain_frequency']\n"
     ]
    }
   ],
   "source": [
    "print(sorted(metadata.columns))"
   ]
  },
  {
   "cell_type": "code",
   "execution_count": 5,
   "metadata": {},
   "outputs": [
    {
     "name": "stdout",
     "output_type": "stream",
     "text": [
      "count    9559.000000\n",
      "mean       45.919040\n",
      "std        17.590019\n",
      "min       -62.700000\n",
      "25%        32.900000\n",
      "50%        46.700000\n",
      "75%        59.900000\n",
      "max        96.700000\n",
      "Name: host_age, dtype: float64\n"
     ]
    }
   ],
   "source": [
    "print(pd.to_numeric(metadata['host_age'], errors='coerce').describe())"
   ]
  },
  {
   "cell_type": "code",
   "execution_count": 8,
   "metadata": {},
   "outputs": [
    {
     "data": {
      "text/plain": [
       "array([-62.7,  42.3,  64.2, ...,  67.5,  53.5,  72.5])"
      ]
     },
     "execution_count": 8,
     "metadata": {},
     "output_type": "execute_result"
    }
   ],
   "source": [
    "metadata_age = pd.to_numeric(metadata['host_age'], errors='coerce')\n",
    "\n",
    "metadata_variable = np.array(metadata_age[~(metadata_age.isnull())])\n",
    "metadata_variable"
   ]
  },
  {
   "cell_type": "code",
   "execution_count": 9,
   "metadata": {},
   "outputs": [],
   "source": [
    "dataset = tf.data.Dataset.from_tensor_slices(metadata_variable)"
   ]
  },
  {
   "cell_type": "code",
   "execution_count": 10,
   "metadata": {},
   "outputs": [
    {
     "name": "stdout",
     "output_type": "stream",
     "text": [
      "tf.Tensor(-62.7, shape=(), dtype=float64)\n",
      "tf.Tensor(42.3, shape=(), dtype=float64)\n",
      "tf.Tensor(64.2, shape=(), dtype=float64)\n",
      "tf.Tensor(26.3, shape=(), dtype=float64)\n",
      "tf.Tensor(39.8, shape=(), dtype=float64)\n"
     ]
    }
   ],
   "source": [
    "for i in dataset.take(5):\n",
    "    print(i)"
   ]
  }
 ],
 "metadata": {
  "kernelspec": {
   "display_name": "crapgpt",
   "language": "python",
   "name": "python3"
  },
  "language_info": {
   "codemirror_mode": {
    "name": "ipython",
    "version": 3
   },
   "file_extension": ".py",
   "mimetype": "text/x-python",
   "name": "python",
   "nbconvert_exporter": "python",
   "pygments_lexer": "ipython3",
   "version": "3.9.18"
  }
 },
 "nbformat": 4,
 "nbformat_minor": 2
}
