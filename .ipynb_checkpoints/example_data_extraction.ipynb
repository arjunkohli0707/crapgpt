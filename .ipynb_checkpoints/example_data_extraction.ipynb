{
 "cells": [
  {
   "cell_type": "code",
   "execution_count": 8,
   "metadata": {},
   "outputs": [],
   "source": [
    "import numpy as np\n",
    "from scipy.sparse import coo_array"
   ]
  },
  {
   "cell_type": "code",
   "execution_count": 9,
   "metadata": {},
   "outputs": [],
   "source": [
    "# load biom table 16S....\n",
    "# o_ids = table.ids(axis='observation')\n",
    "# table_data = table.data\n",
    "# col_ids = table_data.col\n",
    "# row_ids = tabel_data.row\n",
    "# values = table_data.values\n",
    "o_ids = ['x1', 'x2', 'x3', 'x4']\n",
    "col_ind = np.array([0, 0, 3, 1, 2]) # These are our sample access. 0 is sample 1, 3 is sample 4, 1 is sample 2\n",
    "row_ind = np.array([0, 1, 3, 1, 0]) # These correspond to the actual ASV/features. 0 maps to x1, 1 maps to x2, 2 maps to x3\n",
    "values = np.array([4,6,5,7,9]) # These take in the count of how many times the feature was seen in the particular sample"
   ]
  },
  {
   "cell_type": "code",
   "execution_count": 13,
   "metadata": {},
   "outputs": [
    {
     "name": "stdout",
     "output_type": "stream",
     "text": [
      "0 0\n",
      "0 1\n",
      "3 3\n",
      "1 1\n",
      "2 0\n"
     ]
    },
    {
     "data": {
      "text/plain": [
       "{0: ['x1', 'x1', 'x1', 'x1', 'x2', 'x2', 'x2', 'x2', 'x2', 'x2'],\n",
       " 3: ['x4', 'x4', 'x4', 'x4', 'x4'],\n",
       " 1: ['x2', 'x2', 'x2', 'x2', 'x2', 'x2', 'x2'],\n",
       " 2: ['x1', 'x1', 'x1', 'x1', 'x1', 'x1', 'x1', 'x1', 'x1']}"
      ]
     },
     "execution_count": 13,
     "metadata": {},
     "output_type": "execute_result"
    }
   ],
   "source": [
    "data = {}\n",
    "for sample, o_id, count in zip(col_ind, row_ind, values): \n",
    "    print(sample, o_id)\n",
    "    if sample not in data:\n",
    "        data[sample] = []\n",
    "    data[sample].append([o_ids[o_id]]*count)\n",
    "\n",
    "flatten_data = {}\n",
    "for k, v in data.items():\n",
    "    flatten_data[k] = []\n",
    "    for asvs in v:\n",
    "        flatten_data[k] += asvs\n",
    "flatten_data"
   ]
  },
  {
   "cell_type": "code",
   "execution_count": 14,
   "metadata": {},
   "outputs": [],
   "source": [
    "# extract metadata\n",
    "# pandas column data_y\n",
    "# s_ids = table.ids(axix = 'sample')\n",
    "# y_pred = data_frame['gram_fats']\n",
    "# y_pred = y_pred.loc[y_pred.index.isin(s_ids)]"
   ]
  },
  {
   "cell_type": "code",
   "execution_count": 12,
   "metadata": {},
   "outputs": [
    {
     "ename": "NameError",
     "evalue": "name 'tf' is not defined",
     "output_type": "error",
     "traceback": [
      "\u001b[0;31m---------------------------------------------------------------------------\u001b[0m",
      "\u001b[0;31mNameError\u001b[0m                                 Traceback (most recent call last)",
      "Cell \u001b[0;32mIn[12], line 1\u001b[0m\n\u001b[0;32m----> 1\u001b[0m data_x \u001b[38;5;241m=\u001b[39m \u001b[43mtf\u001b[49m\u001b[38;5;241m.\u001b[39mdata\u001b[38;5;241m.\u001b[39mdataset\u001b[38;5;241m.\u001b[39mfrom_tensorslices(data_x)\n\u001b[1;32m      2\u001b[0m data_y \u001b[38;5;241m=\u001b[39m tf\u001b[38;5;241m.\u001b[39mdata\u001b[38;5;241m.\u001b[39mdataset\u001b[38;5;241m.\u001b[39mfrom_tensorslices(data_y)\n\u001b[1;32m      3\u001b[0m dataset \u001b[38;5;241m=\u001b[39m tf\u001b[38;5;241m.\u001b[39mdata\u001b[38;5;241m.\u001b[39mdataset\u001b[38;5;241m.\u001b[39mzip(data_x, data_y)\n",
      "\u001b[0;31mNameError\u001b[0m: name 'tf' is not defined"
     ]
    }
   ],
   "source": [
    "data_x = tf.data.dataset.from_tensorslices(data_x)\n",
    "data_y = tf.data.dataset.from_tensorslices(data_y)\n",
    "dataset = tf.data.dataset.zip(data_x, data_y)\n",
    "training_set = dataset.range(0,500)\n",
    "test_set = dataset.take(500).take(600) # Code example on amplicon_gpt"
   ]
  },
  {
   "cell_type": "code",
   "execution_count": null,
   "metadata": {},
   "outputs": [],
   "source": [
    "dataset\n",
    "\n",
    "train_size = 6\n",
    "training_dataset = dataset.take(train_size)\n",
    "validation_dataset = \n",
    "test_dataset = dataset.skip(train_size)"
   ]
  }
 ],
 "metadata": {
  "kernelspec": {
   "display_name": "crapgpt",
   "language": "python",
   "name": "python3"
  },
  "language_info": {
   "codemirror_mode": {
    "name": "ipython",
    "version": 3
   },
   "file_extension": ".py",
   "mimetype": "text/x-python",
   "name": "python",
   "nbconvert_exporter": "python",
   "pygments_lexer": "ipython3",
   "version": "3.9.18"
  }
 },
 "nbformat": 4,
 "nbformat_minor": 2
}
