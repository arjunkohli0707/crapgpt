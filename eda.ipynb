{
 "cells": [
  {
   "cell_type": "code",
   "execution_count": 1,
   "id": "6ec2a4a3-9727-4e02-afd2-5e22fc635f84",
   "metadata": {},
   "outputs": [],
   "source": [
    "from biom import load_table\n",
    "import pandas as pd\n",
    "biom_table = load_table('16S_feature-table.gg2-2022.10.biom')\n"
   ]
  },
  {
   "cell_type": "code",
   "execution_count": 2,
   "id": "df263fcc",
   "metadata": {},
   "outputs": [
    {
     "data": {
      "text/plain": [
       "5 x 5 <class 'biom.table.Table'> with 0 nonzero entries (0% dense)"
      ]
     },
     "execution_count": 2,
     "metadata": {},
     "output_type": "execute_result"
    }
   ],
   "source": [
    "biom_table.head()"
   ]
  },
  {
   "cell_type": "code",
   "execution_count": null,
   "id": "924f38df",
   "metadata": {},
   "outputs": [],
   "source": []
  }
 ],
 "metadata": {
  "kernelspec": {
   "display_name": "Python 3 (ipykernel)",
   "language": "python",
   "name": "python3"
  },
  "language_info": {
   "codemirror_mode": {
    "name": "ipython",
    "version": 3
   },
   "file_extension": ".py",
   "mimetype": "text/x-python",
   "name": "python",
   "nbconvert_exporter": "python",
   "pygments_lexer": "ipython3",
   "version": "3.9.18"
  }
 },
 "nbformat": 4,
 "nbformat_minor": 5
}
